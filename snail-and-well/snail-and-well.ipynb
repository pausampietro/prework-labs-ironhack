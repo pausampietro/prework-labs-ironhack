{
 "cells": [
  {
   "cell_type": "markdown",
   "metadata": {},
   "source": [
    "# Snail and well\n",
    "\n",
    "A snail falls at the bottom of a 125 cm well. Each day the snail rises 30 cm. But at night, while sleeping, slides 20 cm because the walls are wet. How many days does it take to escape from the well?\n",
    "\n",
    "TIP: http://puzzles.nigelcoldwell.co.uk/sixtytwo.htm"
   ]
  },
  {
   "cell_type": "markdown",
   "metadata": {},
   "source": [
    "## Solución"
   ]
  },
  {
   "cell_type": "code",
   "execution_count": 4,
   "metadata": {},
   "outputs": [
    {
     "name": "stdout",
     "output_type": "stream",
     "text": [
      "Days= 13\n"
     ]
    }
   ],
   "source": [
    "# Assign problem data to variables with representative names\n",
    "# well height, daily advance, night retreat, accumulated distance\n",
    "well_height = 125\n",
    "accumulated_distance = 0\n",
    "daily_advance = 30\n",
    "night_retreat = 20\n",
    "\n",
    "# Assign 0 to the variable that represents the solution\n",
    "days = 0\n",
    "\n",
    "# Write the code that solves the problem\n",
    "while accumulated_distance < well_height:\n",
    "    accumulated_distance += daily_advance\n",
    "    accumulated_distance -= night_retreat\n",
    "    days += 1\n",
    "\n",
    "# Print the result with print('Days =', days)\n",
    "print(\"Days=\",days)"
   ]
  },
  {
   "cell_type": "markdown",
   "metadata": {},
   "source": [
    "## Goals\n",
    "\n",
    "1. Treatment of variables\n",
    "2. Use of loop **while**\n",
    "3. Use of conditional **if-else**\n",
    "4. Print in console"
   ]
  },
  {
   "cell_type": "markdown",
   "metadata": {},
   "source": [
    "## Bonus\n",
    "The distance traveled by the snail is now defined by a list.\n",
    "```\n",
    "advance_cm = [30, 21, 33, 77, 44, 45, 23, 45, 12, 34, 55]\n",
    "```\n",
    "How long does it take to raise the well?\n",
    "\n",
    "What is its maximum displacement in one day? And its minimum?\n",
    "\n",
    "What is its average speed during the day?\n",
    "\n",
    "What is the standard deviation of its displacement during the day?"
   ]
  },
  {
   "cell_type": "code",
   "execution_count": 24,
   "metadata": {
    "scrolled": true
   },
   "outputs": [
    {
     "name": "stdout",
     "output_type": "stream",
     "text": [
      "Days = 6\n",
      "max_dspl = 57\n",
      "min_dspl = -8\n",
      "average progress = 18.09090909090909\n",
      "std_dev = 17.996969441850734\n"
     ]
    }
   ],
   "source": [
    "import math\n",
    "\n",
    "# Assign problem data to variables with representative names\n",
    "# well height, daily advance, night retreat, accumulated distance\n",
    "well_height = 125\n",
    "accumulated_distance = 0\n",
    "daily_advance = [30, 21, 33, 77, 44, 45, 23, 45, 12, 34, 55]\n",
    "daily_advance_total = []\n",
    "night_retreat = 20\n",
    "sum_dst = 0\n",
    "\n",
    "\n",
    "# Assign 0 to the variable that represents the solution\n",
    "days = 0\n",
    "\n",
    "# Write the code that solves the problem\n",
    "while accumulated_distance < well_height:\n",
    "    accumulated_distance += daily_advance[days]\n",
    "    accumulated_distance -= night_retreat\n",
    "    days+=1\n",
    "\n",
    "# Print the result with print('Days =', days)\n",
    "print(\"Days =\",days)\n",
    "\n",
    "# What is its maximum displacement in a day? And its minimum?\n",
    "max_dspl = max(daily_advance)-20\n",
    "min_dspl = min(daily_advance)-20\n",
    "\n",
    "# What is its average progress?\n",
    "for i in range(0,len(daily_advance)):\n",
    "    daily_advance_total.append(daily_advance[i]-20)\n",
    "\n",
    "        \n",
    "avg_progress = sum(daily_advance_total)/len(daily_advance_total)\n",
    "\n",
    "# What is the standard deviation of your displacement during the day?\n",
    "for i in range(0,len(daily_advance_total)):\n",
    "    sum_dst += (daily_advance_total[i]-avg_progress)**2\n",
    "\n",
    "std_dev = (sum_dst/(len(daily_advance_total)-1))**0.5  \n",
    "\n",
    "print(\"max_dspl =\",max_dspl)\n",
    "print(\"min_dspl =\",min_dspl)\n",
    "print(\"average progress =\",avg_progress)\n",
    "print(\"std_dev =\",std_dev)"
   ]
  },
  {
   "cell_type": "code",
   "execution_count": null,
   "metadata": {},
   "outputs": [],
   "source": []
  },
  {
   "cell_type": "code",
   "execution_count": null,
   "metadata": {},
   "outputs": [],
   "source": []
  },
  {
   "cell_type": "code",
   "execution_count": null,
   "metadata": {},
   "outputs": [],
   "source": []
  }
 ],
 "metadata": {
  "kernelspec": {
   "display_name": "Python 3",
   "language": "python",
   "name": "python3"
  },
  "language_info": {
   "codemirror_mode": {
    "name": "ipython",
    "version": 3
   },
   "file_extension": ".py",
   "mimetype": "text/x-python",
   "name": "python",
   "nbconvert_exporter": "python",
   "pygments_lexer": "ipython3",
   "version": "3.7.1"
  }
 },
 "nbformat": 4,
 "nbformat_minor": 2
}
