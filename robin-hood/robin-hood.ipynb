{
 "cells": [
  {
   "cell_type": "markdown",
   "metadata": {},
   "source": [
    "# Robin Hood:\n",
    "We are in a competition to win the archery contest in Sherwood. With our bow and arrows we shoot on a target and try to hit as close as possible to the center.\n",
    "\n",
    "The center of the target is represented by the values (0, 0) on the coordinate axes.\n",
    "\n",
    "![](images/arrows.jpg)\n",
    "\n",
    "## Goals:\n",
    "* data structures: lists, sets, tuples\n",
    "* logical operators: if-elif-else\n",
    "* loop: while/for\n",
    "* minimum (optional sorting)\n",
    "\n",
    "## Description:\n",
    "In the 2-dimensional space, a point can be defined by a pair of values that correspond to the horizontal coordinate (x) and the vertical coordinate (y). The space can be divided into 4 zones (quadrants): Q1, Q2, Q3, Q4. Whose single point of union is the point (0, 0).\n",
    "\n",
    "If a point is in Q1 both its x coordinate and the y are positive. I leave a link to wikipedia to familiarize yourself with these quadrants.\n",
    "\n",
    "https://en.wikipedia.org/wiki/Cartesian_coordinate_system\n",
    "\n",
    "https://en.wikipedia.org/wiki/Euclidean_distance\n",
    "\n",
    "## Shots\n",
    "```\n",
    "points = [(4, 5), (-0, 2), (4, 7), (1, -3), (3, -2), (4, 5),\n",
    "          (3, 2), (5, 7), (-5, 7), (2, 2), (-4, 5), (0, -2),\n",
    "          (-4, 7), (-1, 3), (-3, 2), (-4, -5), (-3, 2),\n",
    "          (5, 7), (5, 7), (2, 2), (9, 9), (-8, -9)]\n",
    "```\n",
    "\n",
    "## Tasks\n",
    "1. Robin Hood is famous for hitting an arrow with another arrow. Did you get it?\n",
    "2. Calculate how many arrows have fallen in each quadrant.\n",
    "3. Find the point closest to the center. Calculate its distance to the center. \n",
    "4. If the target has a radius of 9, calculate the number of arrows that must be picked up in the forest."
   ]
  },
  {
   "cell_type": "code",
   "execution_count": 19,
   "metadata": {},
   "outputs": [],
   "source": [
    "# Variables\n",
    "\n",
    "points = [(4, 5), (-0, 2), (4, 7), (1, -3), (3, -2), (4, 5),\n",
    "          (3, 2), (5, 7), (-5, 7), (2, 2), (-4, 5), (0, -2),\n",
    "          (-4, 7), (-1, 3), (-3, 2), (-4, -5), (-3, 2),\n",
    "          (5, 7), (5, 7), (2, 2), (9, 9), (-8, -9)]"
   ]
  },
  {
   "cell_type": "code",
   "execution_count": 33,
   "metadata": {},
   "outputs": [
    {
     "name": "stdout",
     "output_type": "stream",
     "text": [
      "[(9, 9), (5, 7), (5, 7), (5, 7), (4, 7), (4, 5), (4, 5), (3, 2), (3, -2), (2, 2), (2, 2), (1, -3), (0, 2), (0, -2), (-1, 3), (-3, 2), (-3, 2), (-4, 7), (-4, 5), (-4, -5), (-5, 7), (-8, -9)]\n",
      "6\n"
     ]
    }
   ],
   "source": [
    "# 1. Robin Hood is famous for hitting an arrow with another arrow. Did you get it?\n",
    "points.sort(reverse=True)\n",
    "print(points)\n",
    "\n",
    "num_hits_robin = 0\n",
    "for i in range(0,len(points)):\n",
    "    for j in range(i,len(points)):\n",
    "        if i==j:\n",
    "            continue\n",
    "        else:\n",
    "            if points[i]==points[j]:\n",
    "                num_hits_robin += 1\n",
    "        \n",
    "print(num_hits_robin)\n",
    "\n"
   ]
  },
  {
   "cell_type": "code",
   "execution_count": 28,
   "metadata": {},
   "outputs": [
    {
     "name": "stdout",
     "output_type": "stream",
     "text": [
      "10 2 2 6 2\n"
     ]
    }
   ],
   "source": [
    "# 2. Calculate how many arrows have fallen in each quadrant.\n",
    "nQ1=0\n",
    "nQ2=0\n",
    "nQ3=0\n",
    "nQ4=0\n",
    "nAxis_or_Origin=0\n",
    "\n",
    "for i in range(0,len(points)):\n",
    "    if points[i][0]>0 and points[i][1]>0:\n",
    "        nQ1+=1\n",
    "    elif points[i][0]>0 and points[i][1]<0:\n",
    "        nQ2+=1\n",
    "    elif points[i][0]<0 and points[i][1]<0:\n",
    "        nQ3+=1\n",
    "    elif points[i][0]<0 and points[i][1]>0:\n",
    "        nQ4+=1\n",
    "    else:\n",
    "        nAxis_or_Origin+=1\n",
    "\n",
    "print(nQ1,nQ2,nQ3,nQ4,nAxis_or_Origin)\n",
    "        \n",
    "    "
   ]
  },
  {
   "cell_type": "code",
   "execution_count": 23,
   "metadata": {},
   "outputs": [
    {
     "name": "stdout",
     "output_type": "stream",
     "text": [
      "[12.727922061357855, 8.602325267042627, 8.602325267042627, 8.602325267042627, 8.06225774829855, 6.4031242374328485, 6.4031242374328485, 3.605551275463989, 3.605551275463989, 2.8284271247461903, 2.8284271247461903, 3.1622776601683795, 2.0, 2.0, 3.1622776601683795, 3.605551275463989, 3.605551275463989, 8.06225774829855, 6.4031242374328485, 6.4031242374328485, 8.602325267042627, 12.041594578792296]\n",
      "2.0\n"
     ]
    }
   ],
   "source": [
    "# 3. Find the point closest to the center. Calculate its distance to the center\n",
    "# Defining a function that calculates the distance to the center can help.\n",
    "def dist(x,y):\n",
    "    return (x**2+y**2)**0.5\n",
    "\n",
    "distances= []\n",
    "for i in range(0,len(points)):\n",
    "    distances.append(dist(points[i][0],points[i][1]))\n",
    "\n",
    "\n",
    "print(distances)\n",
    "print(min(distances))\n"
   ]
  },
  {
   "cell_type": "code",
   "execution_count": 5,
   "metadata": {},
   "outputs": [],
   "source": [
    "# 4. If the target has a radius of 9, calculate the number of arrows that \n",
    "# must be picked up in the forest.\n",
    "\n"
   ]
  },
  {
   "cell_type": "code",
   "execution_count": 25,
   "metadata": {},
   "outputs": [
    {
     "name": "stdout",
     "output_type": "stream",
     "text": [
      "2\n"
     ]
    }
   ],
   "source": [
    "out=0\n",
    "\n",
    "for i in range(0,len(distances)):\n",
    "    if distances[i]>9:\n",
    "        out +=1\n",
    "\n",
    "\n",
    "print (out)\n",
    "        "
   ]
  },
  {
   "cell_type": "code",
   "execution_count": null,
   "metadata": {},
   "outputs": [],
   "source": []
  }
 ],
 "metadata": {
  "kernelspec": {
   "display_name": "Python 3",
   "language": "python",
   "name": "python3"
  },
  "language_info": {
   "codemirror_mode": {
    "name": "ipython",
    "version": 3
   },
   "file_extension": ".py",
   "mimetype": "text/x-python",
   "name": "python",
   "nbconvert_exporter": "python",
   "pygments_lexer": "ipython3",
   "version": "3.7.1"
  }
 },
 "nbformat": 4,
 "nbformat_minor": 2
}
